{
 "cells": [
  {
   "cell_type": "markdown",
   "id": "5c416c35",
   "metadata": {},
   "source": [
    "First, we will create the basic VPython background in order to animate the molecular movements, as well as importing all the required methods for our program."
   ]
  },
  {
   "cell_type": "code",
   "execution_count": 100,
   "id": "0d043c85",
   "metadata": {},
   "outputs": [
    {
     "data": {
      "text/html": [
       "<div id=\"glowscript\" class=\"glowscript\"></div>"
      ],
      "text/plain": [
       "<IPython.core.display.HTML object>"
      ]
     },
     "metadata": {},
     "output_type": "display_data"
    },
    {
     "data": {
      "application/javascript": [
       "if (typeof Jupyter !== \"undefined\") { window.__context = { glowscript_container: $(\"#glowscript\").removeAttr(\"id\")};}else{ element.textContent = ' ';}"
      ],
      "text/plain": [
       "<IPython.core.display.Javascript object>"
      ]
     },
     "metadata": {},
     "output_type": "display_data"
    }
   ],
   "source": [
    "from vpython import *\n",
    "from numpy import zeros, arange, sqrt, array, linspace, random, pi, exp\n",
    "from random import random\n",
    "from pylab import savefig, hist, xlabel, ylabel, title, plot, show, legend, ylim\n",
    "import matplotlib.pyplot as plt\n",
    "\n",
    "#================================================================================\n",
    "# Scene set up\n",
    "#================================================================================\n",
    "w = 50  # box width\n",
    "scene = canvas(width = 10*w, height = 10*w, center = vector(w/2, w/2, 0), \n",
    "               range = 0.6*w, fov = 0.01, userzoom = False, autoscale = False, \n",
    "               userspin = False)\n",
    "# box\n",
    "box(pos=vector(0,w/2,0), size=vector(1,w,1), color=color.red)\n",
    "box(pos=vector(w,w/2,0), size=vector(1,w,1), color=color.red)\n",
    "box(pos=vector(w/2,w,0), size=vector(w,1,1), color=color.red)\n",
    "box(pos=vector(w/2,0,0), size=vector(w,1,1), color=color.red)\n"
   ]
  },
  {
   "cell_type": "markdown",
   "id": "734a0858",
   "metadata": {},
   "source": [
    "In this next section, I re-used the force function from the Molecular Dynamics lecture that computes the force each collision (either with the wall or with another molecule) impacts on the particle. \n",
    "\n",
    "In this function, I examined the Leonard-Jones potential from Van der Waals interactions between the molecules using the equation \n",
    "    U = 4*epsilon*((delta/r)^12 - (delta/r)^6)"
   ]
  },
  {
   "cell_type": "code",
   "execution_count": 101,
   "id": "67150a08",
   "metadata": {},
   "outputs": [],
   "source": [
    "#================================================================================\n",
    "# Compute forces, potential energy and radial distribution function\n",
    "#================================================================================\n",
    "\n",
    "def force(x,y,rdf):\n",
    "    \n",
    "    Fx = zeros(N, float)                           # x component of net force on each atom\n",
    "    Fy = zeros(N, float)                           # y component of net force on each atom\n",
    "    func = rdf[:]                                  # radial distribution function\n",
    "    U = 0                                          # reinitialize total potential energy\n",
    "    Fwall = 0                                      # reinitialize total force on walls    \n",
    "    for i in range(N):\n",
    "\n",
    "        # collision with walls\n",
    "        if x[i] < 0.5:                             # deals with collision with left wall\n",
    "            Fx[i] += k*(0.5 - x[i])\n",
    "            Fwall += abs(k*(0.5 - x[i]))\n",
    "            U += 0.5*k*(0.5 - x[i])*(0.5 - x[i])\n",
    "        elif x[i] > (w - 0.5):                     # deals with collision with right wall\n",
    "            Fx[i] += k*(w - 0.5 - x[i])\n",
    "            Fwall += abs(k*(w - 0.5-x[i]))\n",
    "            U += 0.5*k*(w - 0.5 - x[i])*(w - 0.5 - x[i])\n",
    "        if y[i] < 0.5:                             # deals with collision with upper wall\n",
    "            Fy[i] += k*(0.5 - y[i])\n",
    "            Fwall += abs(k*(0.5 - y[i]))\n",
    "            U += k*(0.5 - y[i])*(0.5 - y[i])\n",
    "        elif y[i] > (w - 0.5):                     # deals with collision with lower wall\n",
    "            Fy[i] += k*(w - 0.5 - y[i])\n",
    "            Fwall += abs(k*(w - 0.5 - y[i]))\n",
    "            U += k*(w - 0.5 - y[i])*(w - 0.5 - y[i])\n",
    "        \n",
    "        # Lennard-Jones interaction: for each molecule, calculate the net forces from all LJ potential interactions\n",
    "        for j in range(i+1, N):\n",
    "            deltax = x[j] - x[i]\n",
    "            deltay = y[j] - y[i]\n",
    "            Rij = sqrt(deltax*deltax + deltay*deltay)\n",
    "            \n",
    "            # radial distribution function\n",
    "            nbin = int(Rij/dr)\n",
    "            if nbin == 0:\n",
    "                func[nbin] = 0\n",
    "            else:\n",
    "                func[nbin] += 1/(2*pi*nbin*dr)\n",
    "\n",
    "            # if atoms within cutoff, compute LJ force\n",
    "            if Rij <= cutoff:\n",
    "               \n",
    "                # potential energy\n",
    "                U += sigmaTwelfth/Rij**12 - sigmaSixth/Rij**6                    # Van der Waals interaction\n",
    "\n",
    "                # force\n",
    "                Fijx = (-12*ljTwelfth/Rij**14 + 6*ljSixth/Rij**8)*(x[j] - x[i])  # Van der Waals interaction\n",
    "                Fijy = (-12*ljTwelfth/Rij**14 + 6*ljSixth/Rij**8)*(y[j] - y[i])  # Van der Waals interaction\n",
    "            \n",
    "                # update net forces\n",
    "                Fx[i] += Fijx\n",
    "                Fy[i] += Fijy\n",
    "                Fx[j] += -Fijx\n",
    "                Fy[j] += -Fijy\n",
    "    \n",
    "    return Fx, Fy, 4*epsilon*U, func\n",
    "\n",
    "#================================================================================\n",
    "# Normalize radial distribution function\n",
    "#================================================================================\n",
    "\n",
    "def normalize(rdf):\n",
    "    \n",
    "    func = rdf[:]\n",
    "    # normalize function using Trapezoid Rule\n",
    "    integral = 0.5*dr*(func[0] + 2*sum(func[0:numbin-2]) + func[numbin-1])\n",
    "    \n",
    "    return func*w**2/(N*integral)"
   ]
  },
  {
   "cell_type": "markdown",
   "id": "4bdd52fc",
   "metadata": {},
   "source": [
    "Here is an added portion to the original Molecular Dynamics lecture.\n",
    "\n",
    "In this piece of program, I implemented the Maxwell-Boltzmann distribution using the probability distribution equation, utilizing other constant values such as the Avogadro's number, mass of one helium atom, Boltzmann constant, and temperature of ideal gas."
   ]
  },
  {
   "cell_type": "code",
   "execution_count": 102,
   "id": "b3537719",
   "metadata": {},
   "outputs": [],
   "source": [
    "#================================================================================\n",
    "# Analytical Maxwell-Boltzmann distribution equation\n",
    "#================================================================================\n",
    "\n",
    "def vdistribution(v):\n",
    "    return sqrt(2/pi) * (m/(kb*T))**(3/2) * v**2 * exp(-m*v**2/(2*kb*T))\n",
    "\n",
    "# constants to use to plot MB distribution\n",
    "avogadro = 6.0221408e23                             # number of atoms in one mole of helium gas\n",
    "m = 0.004/avogadro                                  # mass of one helium atom in kg\n",
    "kb = 1.380649e-23                                   # Boltzmann constant in J/K\n",
    "T = 273.15                                          # temperature of ideal gas in Kelvin\n",
    "MBvelocity = linspace(0, 4000, 2000)                # linspace of velocities\n",
    "problist = vdistribution(MBvelocity)                # list that stores distribution of velocities"
   ]
  },
  {
   "cell_type": "markdown",
   "id": "609a12ad",
   "metadata": {},
   "source": [
    "Next, we will add some parameter values useful for the simulation as well as calculating particle speed in the next portion, which is what this project attempts to calculate and analyze."
   ]
  },
  {
   "cell_type": "code",
   "execution_count": 103,
   "id": "01acb5cb",
   "metadata": {},
   "outputs": [],
   "source": [
    "#================================================================================\n",
    "# Simulation parameters\n",
    "#================================================================================\n",
    "N = 80                                              # number of atoms\n",
    "dt = 0.02                                           # timestep\n",
    "m = 1.0                                             # mass\n",
    "sigma = 3                                           # LJ radius\n",
    "sigmaSixth = sigma**6                               # sigma^6\n",
    "sigmaTwelfth = sigmaSixth**2                        # sigma^12\n",
    "epsilon = 1.0                                       # LJ well depth\n",
    "ljSixth = 4*epsilon*sigmaSixth                      # 4*epsilon*sigma**6\n",
    "ljTwelfth = 4*epsilon*sigmaTwelfth                  # 4*epsilon*sigma**12\n",
    "k = 50                                              # stiffness of the walls\n",
    "T1 = 1.0                                            # setpoint temperature 1\n",
    "T2 = 2.5                                            # setpoint temperature 2\n",
    "T3 = 10.0                                           # setpoint temperature 3\n",
    "nstemp = 50                                         # number of time steps before velocity rescaling\n",
    "nsgraph = 1000                                      # number of time steps before graph output and rdf normalization\n",
    "cutoff = 3*sigma                                    # cutoff distance for force calculation\n",
    "    "
   ]
  },
  {
   "cell_type": "markdown",
   "id": "a917babb",
   "metadata": {},
   "source": [
    "Initializing arrays, radial distribution function, and other factors associated with the VPython simulation to prepare for the main simulation loop. Specifically, here is where we introduce the initial positions of the atoms and their initial velocities in the x and y directions––determined by the random() function."
   ]
  },
  {
   "cell_type": "code",
   "execution_count": 104,
   "id": "fd3006ff",
   "metadata": {},
   "outputs": [],
   "source": [
    "#================================================================================\n",
    "# Initialization\n",
    "#================================================================================\n",
    "\n",
    "# arrays for position, velocity, and time\n",
    "x = zeros(N, float)\n",
    "y = zeros(N, float)  \n",
    "vx = array([0.5 - random() for i in range(N)], float)\n",
    "vy = array([0.5 - random() for i in range(N)], float)\n",
    "vxmid = zeros(N,float)\n",
    "vymid = zeros(N,float)\n",
    "\n",
    "# radial distribution function\n",
    "dr = 0.1*sigma                                      # bin width\n",
    "numbin = 2*int(w/dr)                                # number of bins\n",
    "rdf = zeros(numbin, float)                          # initialize to zeros\n",
    "rbins = arange(0,dr*numbin,dr)                      # r values for each bin\n",
    "       \n",
    "# atoms\n",
    "ball = []\n",
    "\n",
    "# initial atom spacing\n",
    "dx = w/(int(sqrt(N)) + 1)\n",
    "dy = w/(int(sqrt(N)) + 1)\n",
    "x0 = 0.5*dx\n",
    "y0 = 0.5*dy\n",
    "\n",
    "# initialize positions of atoms\n",
    "for i in range(N):\n",
    "    x[i] = x0\n",
    "    y[i] = y0\n",
    "    ball.append(sphere(pos=vector(x0,y0,0), radius = sigma*2**(1/6)/2, color=color.white))\n",
    "    x0 += dx\n",
    "    if x0 > w:\n",
    "        x0 = 0.5*dx\n",
    "        y0 += dy\n",
    "\n",
    "t = 0                                               # Initialize time\n",
    "counter = 0                                         # Initialize number of time steps\n",
    "\n",
    "# Perform a half step for Verlet Algorithm\n",
    "Fx,Fy,U, rdf = force(x,y,rdf)\n",
    "vxmid = vx + 0.5*dt*Fx/m\n",
    "vymid = vy + 0.5*dt*Fy/m\n",
    "K = 0.5*m*sum(vx**2 + vy**2)\n",
    "T = K/N    "
   ]
  },
  {
   "cell_type": "code",
   "execution_count": 105,
   "id": "9d3016ed",
   "metadata": {},
   "outputs": [],
   "source": [
    "#================================================================================\n",
    "# Output\n",
    "#================================================================================\n",
    "\n",
    "# Radial distribution function graph\n",
    "g1 = graph(width=400, height=250, xtitle=\"Distance (sigma)\", ytitle=\"g(r)\", xmin=0, xmax = w/sigma)\n",
    "radialdistplot = gcurve(graph = g1, color=color.green)\n",
    "for i in range(numbin):\n",
    "    radialdistplot.plot(i*dr/sigma, rdf[i])\n"
   ]
  },
  {
   "cell_type": "markdown",
   "id": "5806d322",
   "metadata": {},
   "source": [
    "This is arguably the most important part of this project: where we use Verlet algorithm to compute the velocity change for each of the 80 gas molecules as time goes on and plot this data in the form of a histogram to compare with the Maxwell-Boltzmann distribution curve.\n",
    "\n",
    "In addition, this is also where we implements the two types of thermostats that we are going to compare: Isokinetic thermostat and Berendsen thermostat. We will run this simulation loop a couple of time with different parameters like initial temperature and different thermostat to see how well our simulation fits with the Maxwell-Boltzmann distribution."
   ]
  },
  {
   "cell_type": "code",
   "execution_count": 106,
   "id": "0498dddb",
   "metadata": {},
   "outputs": [
    {
     "data": {
      "text/plain": [
       "<Figure size 432x288 with 0 Axes>"
      ]
     },
     "metadata": {},
     "output_type": "display_data"
    }
   ],
   "source": [
    "#================================================================================        \n",
    "# Main simulation loop\n",
    "#================================================================================\n",
    "\n",
    "trange = arange(0, 1500, 1)                 # regulates a time constraint for the simulation\n",
    "thermostat_option = 2                       # 1: Isokinetic thermostat, 2: Berendsen thermostat\n",
    "\n",
    "for a in trange:\n",
    "    \n",
    "    rate(5/dt)\n",
    "    \n",
    "    # Verlet algorithm\n",
    "    x += vxmid*dt\n",
    "    y += vymid*dt\n",
    "    Fx, Fy, U, rdf = force(x,y,rdf)         # calculate forces and potential energy using force() function\n",
    "    vx = vxmid + 0.5*Fx/m*dt\n",
    "    vy = vymid + 0.5*Fy/m*dt\n",
    "    vxmid += Fx/m*dt\n",
    "    vymid += Fy/m*dt\n",
    "    K = 0.5*m*sum(vx*vx + vy*vy)            # updates current kinetic energy\n",
    "    T = K/N                                 # update current temperature that's related to the kinetic energy\n",
    "    \n",
    "    # Create histogram to represent velocity data at some time stops\n",
    "    velocity = zeros(N, float)              # velocity array initialized to store information for the 80 particles\n",
    "    BINS = arange(0, 10, 0.1)               # number of bins in the histogram\n",
    "    for i in range(N):\n",
    "        velocity[i] = sqrt(vx[i]**2 + vy[i]**2)   \n",
    "    \n",
    "    # Create a new histogram every 25 iterations to observe the speed distribution change\n",
    "    if (a % 25 == 0):\n",
    "        histogram = hist(velocity, bins = BINS, range = (0, 10), color = \"r\")\n",
    "        title(\"Speed Distribution of Molecules\")\n",
    "        xlabel(\"Speed\")\n",
    "        ylabel(\"Number of Molecules\")\n",
    "        ylim(0, 10)                         # make sure that our graph always has the same size\n",
    "        savefig(\"plot(%d).png\" % a)         # use the figures saved to create .gif\n",
    "        plt.gcf().clear()                   # clear the histogram created after we save it to prepare for next plotting\n",
    "        \n",
    "\n",
    "    # Update atom positions\n",
    "    for i in range(N):\n",
    "        ball[i].pos = vector(x[i], y[i], 0)\n",
    "        \n",
    "    if counter % nsgraph == 0:\n",
    "        rdf = normalize(rdf)                # normalize radial distribution function\n",
    "        radialdistplot.delete()             # plot radial distribution function\n",
    "        for i in range(numbin):\n",
    "            radialdistplot.plot(i*dr/sigma, rdf[i])\n",
    "        rdf = zeros(numbin, float)          # reinitialize radial distribution function  \n",
    "        \n",
    "    # Thermostat to regularize the temperature to scale the velocities\n",
    "    if counter % nstemp == 0 and counter > 0:\n",
    "        if T == 0:\n",
    "            for i in range(N):\n",
    "                vxmid[i] = 1.0 - random()\n",
    "                vymid[i] = 1.0 - random()\n",
    "        else:\n",
    "            if thermostat_option == 1:\n",
    "                gamma = sqrt(T1/T)                   # Isokinetic thermostat\n",
    "            else:\n",
    "                gamma = sqrt(1+dt*(T/T1 - 1)/10)     # Berendsen thermostat\n",
    "            vxmid *= gamma\n",
    "            vymid *= gamma     \n",
    "       \n",
    "    counter += 1                            # number of timesteps\n",
    "    t += dt                                 # increase time  "
   ]
  },
  {
   "cell_type": "markdown",
   "id": "a7c0725e",
   "metadata": {},
   "source": [
    "Lastly, here is where we will plot the Maxwell-Boltzmann distribution curve according to the precise formula for it and with the parameters we prepared in the above steps. We will be comparing this curve with the distributions we see from the simulation loop."
   ]
  },
  {
   "cell_type": "code",
   "execution_count": 107,
   "id": "b93674a2",
   "metadata": {},
   "outputs": [
    {
     "data": {
      "image/png": "[encoded data removed]",
      "text/plain": [
       "<Figure size 432x288 with 1 Axes>"
      ]
     },
     "metadata": {
      "needs_background": "light"
     },
     "output_type": "display_data"
    }
   ],
   "source": [
    "#================================================================================        \n",
    "# Plotting analytical Maxwell-Boltzmann Distribution Curve\n",
    "#================================================================================\n",
    "\n",
    "plot(MBvelocity/1000, problist, \"r-\", label = \"Maxwell-Boltzmann Distribution\")\n",
    "xlabel(\"Velocity (m/s)\")\n",
    "ylabel(\"Frequency\")\n",
    "legend()\n",
    "show()"
   ]
  },
  {
   "cell_type": "code",
   "execution_count": null,
   "id": "a1d14643",
   "metadata": {},
   "outputs": [],
   "source": []
  }
 ],
 "metadata": {
  "kernelspec": {
   "display_name": "Python 3 (ipykernel)",
   "language": "python",
   "name": "python3"
  },
  "language_info": {
   "codemirror_mode": {
    "name": "ipython",
    "version": 3
   },
   "file_extension": ".py",
   "mimetype": "text/x-python",
   "name": "python",
   "nbconvert_exporter": "python",
   "pygments_lexer": "ipython3",
   "version": "3.9.7"
  }
 },
 "nbformat": 4,
 "nbformat_minor": 5
}
